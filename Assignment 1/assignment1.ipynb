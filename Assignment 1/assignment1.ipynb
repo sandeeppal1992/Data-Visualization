{
 "cells": [
  {
   "cell_type": "markdown",
   "id": "4cc4f243-cb19-47dd-a91b-a9e7e3e9c52c",
   "metadata": {},
   "source": [
    "#  Assignment 1\n",
    "## Sandeep Pal\n",
    "## Student ID: 202091837\n",
    "## Date: 19-1-2023"
   ]
  },
  {
   "cell_type": "markdown",
   "id": "c8fb8365-9ab5-49c7-8998-b0feddbf4c84",
   "metadata": {},
   "source": [
    "### Import Pandas and loading Starwars CSV data into dataframe. Note: CSV file is in the same path as the ipynb file."
   ]
  },
  {
   "cell_type": "code",
   "execution_count": 1,
   "id": "ad6c3aa5-824c-4e37-a34b-d36ec753f7a2",
   "metadata": {},
   "outputs": [],
   "source": [
    "import pandas as pd"
   ]
  },
  {
   "cell_type": "code",
   "execution_count": 13,
   "id": "26b94eed-419e-4508-8f6a-d3fb4ebd0e88",
   "metadata": {},
   "outputs": [],
   "source": [
    "df = pd.read_csv('starwars.csv',na_filter=False)"
   ]
  },
  {
   "cell_type": "markdown",
   "id": "1caf624b-e402-44ed-9ce7-cb4587be79db",
   "metadata": {},
   "source": [
    "### View the dataframe for reference"
   ]
  },
  {
   "cell_type": "code",
   "execution_count": 3,
   "id": "f926e188-47e9-43bd-b18d-08a609cc11b5",
   "metadata": {},
   "outputs": [
    {
     "data": {
      "text/html": [
       "<div>\n",
       "<style scoped>\n",
       "    .dataframe tbody tr th:only-of-type {\n",
       "        vertical-align: middle;\n",
       "    }\n",
       "\n",
       "    .dataframe tbody tr th {\n",
       "        vertical-align: top;\n",
       "    }\n",
       "\n",
       "    .dataframe thead th {\n",
       "        text-align: right;\n",
       "    }\n",
       "</style>\n",
       "<table border=\"1\" class=\"dataframe\">\n",
       "  <thead>\n",
       "    <tr style=\"text-align: right;\">\n",
       "      <th></th>\n",
       "      <th>id</th>\n",
       "      <th>seen_any_films</th>\n",
       "      <th>fan</th>\n",
       "      <th>seen_episode1</th>\n",
       "      <th>seen_episode2</th>\n",
       "      <th>seen_episode3</th>\n",
       "      <th>seen_episode4</th>\n",
       "      <th>seen_episode5</th>\n",
       "      <th>seen_episode6</th>\n",
       "      <th>rank_episode1</th>\n",
       "      <th>...</th>\n",
       "      <th>view_yoda</th>\n",
       "      <th>who_shot_first</th>\n",
       "      <th>familiar_with_expanded_universe</th>\n",
       "      <th>fan_expanded_universe</th>\n",
       "      <th>fan_star_trek</th>\n",
       "      <th>gender</th>\n",
       "      <th>age</th>\n",
       "      <th>household_income</th>\n",
       "      <th>education</th>\n",
       "      <th>location</th>\n",
       "    </tr>\n",
       "  </thead>\n",
       "  <tbody>\n",
       "    <tr>\n",
       "      <th>0</th>\n",
       "      <td>3.292880e+09</td>\n",
       "      <td>Yes</td>\n",
       "      <td>Yes</td>\n",
       "      <td>Yes</td>\n",
       "      <td>Yes</td>\n",
       "      <td>Yes</td>\n",
       "      <td>Yes</td>\n",
       "      <td>Yes</td>\n",
       "      <td>Yes</td>\n",
       "      <td>3</td>\n",
       "      <td>...</td>\n",
       "      <td>Very favorably</td>\n",
       "      <td>I don't understand this question</td>\n",
       "      <td>Yes</td>\n",
       "      <td>No</td>\n",
       "      <td>No</td>\n",
       "      <td>Male</td>\n",
       "      <td>18-29</td>\n",
       "      <td>N/A</td>\n",
       "      <td>High school degree</td>\n",
       "      <td>South Atlantic</td>\n",
       "    </tr>\n",
       "    <tr>\n",
       "      <th>1</th>\n",
       "      <td>3.292880e+09</td>\n",
       "      <td>No</td>\n",
       "      <td>N/A</td>\n",
       "      <td>N/A</td>\n",
       "      <td>N/A</td>\n",
       "      <td>N/A</td>\n",
       "      <td>N/A</td>\n",
       "      <td>N/A</td>\n",
       "      <td>N/A</td>\n",
       "      <td>N/A</td>\n",
       "      <td>...</td>\n",
       "      <td>N/A</td>\n",
       "      <td>N/A</td>\n",
       "      <td>N/A</td>\n",
       "      <td>N/A</td>\n",
       "      <td>Yes</td>\n",
       "      <td>Male</td>\n",
       "      <td>18-29</td>\n",
       "      <td>$0 - $24,999</td>\n",
       "      <td>Bachelor degree</td>\n",
       "      <td>West South Central</td>\n",
       "    </tr>\n",
       "    <tr>\n",
       "      <th>2</th>\n",
       "      <td>3.292765e+09</td>\n",
       "      <td>Yes</td>\n",
       "      <td>No</td>\n",
       "      <td>Yes</td>\n",
       "      <td>Yes</td>\n",
       "      <td>Yes</td>\n",
       "      <td>No</td>\n",
       "      <td>No</td>\n",
       "      <td>No</td>\n",
       "      <td>1</td>\n",
       "      <td>...</td>\n",
       "      <td>Unfamiliar (N/A)</td>\n",
       "      <td>I don't understand this question</td>\n",
       "      <td>No</td>\n",
       "      <td>N/A</td>\n",
       "      <td>No</td>\n",
       "      <td>Male</td>\n",
       "      <td>18-29</td>\n",
       "      <td>$0 - $24,999</td>\n",
       "      <td>High school degree</td>\n",
       "      <td>West North Central</td>\n",
       "    </tr>\n",
       "    <tr>\n",
       "      <th>3</th>\n",
       "      <td>3.292763e+09</td>\n",
       "      <td>Yes</td>\n",
       "      <td>Yes</td>\n",
       "      <td>Yes</td>\n",
       "      <td>Yes</td>\n",
       "      <td>Yes</td>\n",
       "      <td>Yes</td>\n",
       "      <td>Yes</td>\n",
       "      <td>Yes</td>\n",
       "      <td>5</td>\n",
       "      <td>...</td>\n",
       "      <td>Very favorably</td>\n",
       "      <td>I don't understand this question</td>\n",
       "      <td>No</td>\n",
       "      <td>N/A</td>\n",
       "      <td>Yes</td>\n",
       "      <td>Male</td>\n",
       "      <td>18-29</td>\n",
       "      <td>$100,000 - $149,999</td>\n",
       "      <td>Some college or Associate degree</td>\n",
       "      <td>West North Central</td>\n",
       "    </tr>\n",
       "    <tr>\n",
       "      <th>4</th>\n",
       "      <td>3.292731e+09</td>\n",
       "      <td>Yes</td>\n",
       "      <td>Yes</td>\n",
       "      <td>Yes</td>\n",
       "      <td>Yes</td>\n",
       "      <td>Yes</td>\n",
       "      <td>Yes</td>\n",
       "      <td>Yes</td>\n",
       "      <td>Yes</td>\n",
       "      <td>5</td>\n",
       "      <td>...</td>\n",
       "      <td>Somewhat favorably</td>\n",
       "      <td>Greedo</td>\n",
       "      <td>Yes</td>\n",
       "      <td>No</td>\n",
       "      <td>No</td>\n",
       "      <td>Male</td>\n",
       "      <td>18-29</td>\n",
       "      <td>$100,000 - $149,999</td>\n",
       "      <td>Some college or Associate degree</td>\n",
       "      <td>West North Central</td>\n",
       "    </tr>\n",
       "    <tr>\n",
       "      <th>...</th>\n",
       "      <td>...</td>\n",
       "      <td>...</td>\n",
       "      <td>...</td>\n",
       "      <td>...</td>\n",
       "      <td>...</td>\n",
       "      <td>...</td>\n",
       "      <td>...</td>\n",
       "      <td>...</td>\n",
       "      <td>...</td>\n",
       "      <td>...</td>\n",
       "      <td>...</td>\n",
       "      <td>...</td>\n",
       "      <td>...</td>\n",
       "      <td>...</td>\n",
       "      <td>...</td>\n",
       "      <td>...</td>\n",
       "      <td>...</td>\n",
       "      <td>...</td>\n",
       "      <td>...</td>\n",
       "      <td>...</td>\n",
       "      <td>...</td>\n",
       "    </tr>\n",
       "    <tr>\n",
       "      <th>1181</th>\n",
       "      <td>3.288389e+09</td>\n",
       "      <td>Yes</td>\n",
       "      <td>Yes</td>\n",
       "      <td>Yes</td>\n",
       "      <td>Yes</td>\n",
       "      <td>Yes</td>\n",
       "      <td>Yes</td>\n",
       "      <td>Yes</td>\n",
       "      <td>Yes</td>\n",
       "      <td>5</td>\n",
       "      <td>...</td>\n",
       "      <td>Very favorably</td>\n",
       "      <td>Han</td>\n",
       "      <td>No</td>\n",
       "      <td>N/A</td>\n",
       "      <td>Yes</td>\n",
       "      <td>Female</td>\n",
       "      <td>18-29</td>\n",
       "      <td>$0 - $24,999</td>\n",
       "      <td>Some college or Associate degree</td>\n",
       "      <td>East North Central</td>\n",
       "    </tr>\n",
       "    <tr>\n",
       "      <th>1182</th>\n",
       "      <td>3.288379e+09</td>\n",
       "      <td>Yes</td>\n",
       "      <td>Yes</td>\n",
       "      <td>Yes</td>\n",
       "      <td>Yes</td>\n",
       "      <td>Yes</td>\n",
       "      <td>Yes</td>\n",
       "      <td>Yes</td>\n",
       "      <td>Yes</td>\n",
       "      <td>4</td>\n",
       "      <td>...</td>\n",
       "      <td>Very favorably</td>\n",
       "      <td>I don't understand this question</td>\n",
       "      <td>No</td>\n",
       "      <td>N/A</td>\n",
       "      <td>Yes</td>\n",
       "      <td>Female</td>\n",
       "      <td>30-44</td>\n",
       "      <td>$50,000 - $99,999</td>\n",
       "      <td>Bachelor degree</td>\n",
       "      <td>Mountain</td>\n",
       "    </tr>\n",
       "    <tr>\n",
       "      <th>1183</th>\n",
       "      <td>3.288375e+09</td>\n",
       "      <td>No</td>\n",
       "      <td>N/A</td>\n",
       "      <td>N/A</td>\n",
       "      <td>N/A</td>\n",
       "      <td>N/A</td>\n",
       "      <td>N/A</td>\n",
       "      <td>N/A</td>\n",
       "      <td>N/A</td>\n",
       "      <td>N/A</td>\n",
       "      <td>...</td>\n",
       "      <td>N/A</td>\n",
       "      <td>N/A</td>\n",
       "      <td>N/A</td>\n",
       "      <td>N/A</td>\n",
       "      <td>No</td>\n",
       "      <td>Female</td>\n",
       "      <td>30-44</td>\n",
       "      <td>$50,000 - $99,999</td>\n",
       "      <td>Bachelor degree</td>\n",
       "      <td>Middle Atlantic</td>\n",
       "    </tr>\n",
       "    <tr>\n",
       "      <th>1184</th>\n",
       "      <td>3.288373e+09</td>\n",
       "      <td>Yes</td>\n",
       "      <td>Yes</td>\n",
       "      <td>Yes</td>\n",
       "      <td>Yes</td>\n",
       "      <td>Yes</td>\n",
       "      <td>Yes</td>\n",
       "      <td>Yes</td>\n",
       "      <td>Yes</td>\n",
       "      <td>4</td>\n",
       "      <td>...</td>\n",
       "      <td>Very favorably</td>\n",
       "      <td>Han</td>\n",
       "      <td>No</td>\n",
       "      <td>N/A</td>\n",
       "      <td>Yes</td>\n",
       "      <td>Female</td>\n",
       "      <td>45-60</td>\n",
       "      <td>$100,000 - $149,999</td>\n",
       "      <td>Some college or Associate degree</td>\n",
       "      <td>East North Central</td>\n",
       "    </tr>\n",
       "    <tr>\n",
       "      <th>1185</th>\n",
       "      <td>3.288373e+09</td>\n",
       "      <td>Yes</td>\n",
       "      <td>No</td>\n",
       "      <td>Yes</td>\n",
       "      <td>Yes</td>\n",
       "      <td>No</td>\n",
       "      <td>No</td>\n",
       "      <td>Yes</td>\n",
       "      <td>Yes</td>\n",
       "      <td>6</td>\n",
       "      <td>...</td>\n",
       "      <td>Very unfavorably</td>\n",
       "      <td>I don't understand this question</td>\n",
       "      <td>No</td>\n",
       "      <td>N/A</td>\n",
       "      <td>No</td>\n",
       "      <td>Female</td>\n",
       "      <td>&gt; 60</td>\n",
       "      <td>$50,000 - $99,999</td>\n",
       "      <td>Graduate degree</td>\n",
       "      <td>Pacific</td>\n",
       "    </tr>\n",
       "  </tbody>\n",
       "</table>\n",
       "<p>1186 rows × 38 columns</p>\n",
       "</div>"
      ],
      "text/plain": [
       "                id seen_any_films  fan seen_episode1 seen_episode2  \\\n",
       "0     3.292880e+09            Yes  Yes           Yes           Yes   \n",
       "1     3.292880e+09             No  N/A           N/A           N/A   \n",
       "2     3.292765e+09            Yes   No           Yes           Yes   \n",
       "3     3.292763e+09            Yes  Yes           Yes           Yes   \n",
       "4     3.292731e+09            Yes  Yes           Yes           Yes   \n",
       "...            ...            ...  ...           ...           ...   \n",
       "1181  3.288389e+09            Yes  Yes           Yes           Yes   \n",
       "1182  3.288379e+09            Yes  Yes           Yes           Yes   \n",
       "1183  3.288375e+09             No  N/A           N/A           N/A   \n",
       "1184  3.288373e+09            Yes  Yes           Yes           Yes   \n",
       "1185  3.288373e+09            Yes   No           Yes           Yes   \n",
       "\n",
       "     seen_episode3 seen_episode4 seen_episode5 seen_episode6 rank_episode1  \\\n",
       "0              Yes           Yes           Yes           Yes             3   \n",
       "1              N/A           N/A           N/A           N/A           N/A   \n",
       "2              Yes            No            No            No             1   \n",
       "3              Yes           Yes           Yes           Yes             5   \n",
       "4              Yes           Yes           Yes           Yes             5   \n",
       "...            ...           ...           ...           ...           ...   \n",
       "1181           Yes           Yes           Yes           Yes             5   \n",
       "1182           Yes           Yes           Yes           Yes             4   \n",
       "1183           N/A           N/A           N/A           N/A           N/A   \n",
       "1184           Yes           Yes           Yes           Yes             4   \n",
       "1185            No            No           Yes           Yes             6   \n",
       "\n",
       "      ...           view_yoda                    who_shot_first  \\\n",
       "0     ...      Very favorably  I don't understand this question   \n",
       "1     ...                 N/A                               N/A   \n",
       "2     ...    Unfamiliar (N/A)  I don't understand this question   \n",
       "3     ...      Very favorably  I don't understand this question   \n",
       "4     ...  Somewhat favorably                            Greedo   \n",
       "...   ...                 ...                               ...   \n",
       "1181  ...      Very favorably                               Han   \n",
       "1182  ...      Very favorably  I don't understand this question   \n",
       "1183  ...                 N/A                               N/A   \n",
       "1184  ...      Very favorably                               Han   \n",
       "1185  ...    Very unfavorably  I don't understand this question   \n",
       "\n",
       "     familiar_with_expanded_universe fan_expanded_universe fan_star_trek  \\\n",
       "0                                Yes                    No            No   \n",
       "1                                N/A                   N/A           Yes   \n",
       "2                                 No                   N/A            No   \n",
       "3                                 No                   N/A           Yes   \n",
       "4                                Yes                    No            No   \n",
       "...                              ...                   ...           ...   \n",
       "1181                              No                   N/A           Yes   \n",
       "1182                              No                   N/A           Yes   \n",
       "1183                             N/A                   N/A            No   \n",
       "1184                              No                   N/A           Yes   \n",
       "1185                              No                   N/A            No   \n",
       "\n",
       "      gender    age     household_income                         education  \\\n",
       "0       Male  18-29                  N/A                High school degree   \n",
       "1       Male  18-29         $0 - $24,999                   Bachelor degree   \n",
       "2       Male  18-29         $0 - $24,999                High school degree   \n",
       "3       Male  18-29  $100,000 - $149,999  Some college or Associate degree   \n",
       "4       Male  18-29  $100,000 - $149,999  Some college or Associate degree   \n",
       "...      ...    ...                  ...                               ...   \n",
       "1181  Female  18-29         $0 - $24,999  Some college or Associate degree   \n",
       "1182  Female  30-44    $50,000 - $99,999                   Bachelor degree   \n",
       "1183  Female  30-44    $50,000 - $99,999                   Bachelor degree   \n",
       "1184  Female  45-60  $100,000 - $149,999  Some college or Associate degree   \n",
       "1185  Female   > 60    $50,000 - $99,999                   Graduate degree   \n",
       "\n",
       "                location  \n",
       "0         South Atlantic  \n",
       "1     West South Central  \n",
       "2     West North Central  \n",
       "3     West North Central  \n",
       "4     West North Central  \n",
       "...                  ...  \n",
       "1181  East North Central  \n",
       "1182            Mountain  \n",
       "1183     Middle Atlantic  \n",
       "1184  East North Central  \n",
       "1185             Pacific  \n",
       "\n",
       "[1186 rows x 38 columns]"
      ]
     },
     "execution_count": 3,
     "metadata": {},
     "output_type": "execute_result"
    }
   ],
   "source": [
    "df"
   ]
  },
  {
   "cell_type": "markdown",
   "id": "1d39ab42-d5d6-48eb-afd4-4fb7d4dca89b",
   "metadata": {},
   "source": [
    "### Q1) The below code determines the number of unique values for the age\n",
    "Step 1: nunique() gives the number of unique values present in column age"
   ]
  },
  {
   "cell_type": "code",
   "execution_count": 4,
   "id": "f868140b-7c30-4887-a3f4-4261dc4e3511",
   "metadata": {},
   "outputs": [
    {
     "data": {
      "text/plain": [
       "5"
      ]
     },
     "execution_count": 4,
     "metadata": {},
     "output_type": "execute_result"
    }
   ],
   "source": [
    "df['age'].nunique()"
   ]
  },
  {
   "cell_type": "markdown",
   "id": "ed5f0c1f-1a4f-4dc6-9041-3b998a7c2eb2",
   "metadata": {},
   "source": [
    "### Q2) The below code lists the unique responses for the question, \"Who shot first?\"\n",
    "Step 1: unique() gives the list of unique values present in column who_shot_first"
   ]
  },
  {
   "cell_type": "code",
   "execution_count": 5,
   "id": "4307918b-8a7f-459d-bd4e-d872ca44b1b8",
   "metadata": {},
   "outputs": [
    {
     "data": {
      "text/plain": [
       "array([\"I don't understand this question\", 'N/A', 'Greedo', 'Han'],\n",
       "      dtype=object)"
      ]
     },
     "execution_count": 5,
     "metadata": {},
     "output_type": "execute_result"
    }
   ],
   "source": [
    "df['who_shot_first'].unique()"
   ]
  },
  {
   "cell_type": "markdown",
   "id": "6b50f171-d2cb-49d6-902d-ca5891fa9cf8",
   "metadata": {},
   "source": [
    "### Q3) The below code determines the number of entries in the data set that view Darth Vader as \"Very favorably\" or \"Somewhat favorably\"\n",
    " Step 1: Here 's' contains the dataframe rows with the details that views darth vader as very favourably or somewhat favourable. \\\n",
    " Step 2: Can be solved using s['view_darth_vader'].count() which gives the count of the s dataframe which answers the question or using len(s['view_darth_vader'].index). \\\n",
    " Reference: https://stackoverflow.com/questions/15943769/how-do-i-get-the-row-count-of-a-pandas-dataframe"
   ]
  },
  {
   "cell_type": "code",
   "execution_count": 6,
   "id": "b1283a43-cfb6-4611-9ec9-1d62fb0df6b3",
   "metadata": {},
   "outputs": [
    {
     "data": {
      "text/plain": [
       "481"
      ]
     },
     "execution_count": 6,
     "metadata": {},
     "output_type": "execute_result"
    }
   ],
   "source": [
    "s=df[(df['view_darth_vader'].str.contains('Very favorably') | df['view_darth_vader'].str.contains('Somewhat favorably'))]\n",
    "#s['view_darth_vader'].count()\n",
    "len(s['view_darth_vader'].index)"
   ]
  },
  {
   "cell_type": "markdown",
   "id": "08b7cc5a-2807-471d-bb36-7e6df58dfc23",
   "metadata": {},
   "source": [
    "### Q4) The below code determines the total number of people that have seen all 6 Star Wars films\n",
    " Step 1: Here 's' contains the dataframe rows with the details of people who have seen all the 6 star wars films \"seen_episode1...seen_episode6\". \\\n",
    " Step 2: s['view_darth_vader'].count() gives the count of the s dataframe which answers the question or using len(s['id'].index) . \\\n",
    " Reference: https://stackoverflow.com/questions/15943769/how-do-i-get-the-row-count-of-a-pandas-dataframe"
   ]
  },
  {
   "cell_type": "code",
   "execution_count": 7,
   "id": "f2df5486-2648-462e-af78-8581bd08567b",
   "metadata": {},
   "outputs": [
    {
     "data": {
      "text/plain": [
       "471"
      ]
     },
     "execution_count": 7,
     "metadata": {},
     "output_type": "execute_result"
    }
   ],
   "source": [
    "s=df[(df['seen_episode1'].str.contains('Yes') & df['seen_episode2'].str.contains('Yes')  & df['seen_episode3'].str.contains('Yes')  & df['seen_episode4'].str.contains('Yes')  & df['seen_episode5'].str.contains('Yes')  & df['seen_episode6'].str.contains('Yes'))]\n",
    "#s['id'].count()\n",
    "len(s['id'].index)"
   ]
  },
  {
   "cell_type": "markdown",
   "id": "41f84b0f-259a-4759-837a-5aa32cc62006",
   "metadata": {},
   "source": [
    "### Q5) The below code computes the % of males and females who are fans of Star wars. \n",
    "Will divide the problem into series of steps: \\\n",
    " Step 1: Below code snippet gives the count of Males who are fan of star wars it comes to 303."
   ]
  },
  {
   "cell_type": "code",
   "execution_count": 8,
   "id": "51243989-5c09-4ab8-b9c7-faf9e5b93a80",
   "metadata": {},
   "outputs": [
    {
     "data": {
      "text/plain": [
       "303"
      ]
     },
     "execution_count": 8,
     "metadata": {},
     "output_type": "execute_result"
    }
   ],
   "source": [
    "#len(df[(df.gender == 'Male' & df.fan == 'Yes')])\n",
    "\n",
    "len(df[(df['gender'].str.contains('Male')) & (df['fan'].str.contains('Yes'))])"
   ]
  },
  {
   "cell_type": "markdown",
   "id": "c8606d11-774d-4c43-b59f-e716dad2fe82",
   "metadata": {},
   "source": [
    " Step 2: Total number of male people present in the survey can be seen through the below snippet which is 497."
   ]
  },
  {
   "cell_type": "code",
   "execution_count": 9,
   "id": "2fdfd8ff-cc53-436e-bd54-dc71bb5b92c4",
   "metadata": {},
   "outputs": [
    {
     "data": {
      "text/plain": [
       "497"
      ]
     },
     "execution_count": 9,
     "metadata": {},
     "output_type": "execute_result"
    }
   ],
   "source": [
    "#len(df)\n",
    "#len(df.index)\n",
    "len(df[(df['gender'].str.contains('Male'))])"
   ]
  },
  {
   "cell_type": "markdown",
   "id": "edb30136-5d30-4a7d-bf11-b74473d20910",
   "metadata": {},
   "source": [
    " Step 3: Total number of female people present in the survey can be seen through the below snippet which is 549."
   ]
  },
  {
   "cell_type": "code",
   "execution_count": 10,
   "id": "9aed11dd-c8b8-4893-bd46-5263e6a38b8a",
   "metadata": {},
   "outputs": [
    {
     "data": {
      "text/plain": [
       "549"
      ]
     },
     "execution_count": 10,
     "metadata": {},
     "output_type": "execute_result"
    }
   ],
   "source": [
    "len(df[(df['gender'].str.contains('Female'))])"
   ]
  },
  {
   "cell_type": "markdown",
   "id": "ce0b2da9-b093-4de9-be08-61c2fc0958af",
   "metadata": {},
   "source": [
    "Step 4: Calculate the male fan ratio which is the Step1 / Step2 i.e count of star war Male fans/total number of male people. \\\n",
    "Step 5: Calculate the male % which is male fan ratio * 100"
   ]
  },
  {
   "cell_type": "code",
   "execution_count": 11,
   "id": "288cde5e-4d7e-44ad-9049-5725e9c8f995",
   "metadata": {},
   "outputs": [
    {
     "data": {
      "text/plain": [
       "60.96579476861167"
      ]
     },
     "execution_count": 11,
     "metadata": {},
     "output_type": "execute_result"
    }
   ],
   "source": [
    "#males_ratio=len(df[df.gender == 'Male'])/len(df.index)\n",
    "#males_ratio\n",
    "males_ratio=len(df[(df['gender'].str.contains('Male')) & (df['fan'].str.contains('Yes'))])/len(df[(df['gender'].str.contains('Male'))])\n",
    "males_percent=males_ratio*100\n",
    "males_percent"
   ]
  },
  {
   "cell_type": "markdown",
   "id": "42f0ef96-3b16-4d49-9e55-0a2e73256ceb",
   "metadata": {},
   "source": [
    "Step 5: Calculate the female fan ratio which is count of star war Female fans/total number of female people. \\\n",
    "Step 6: Calculate the female % which is female fan ratio * 100"
   ]
  },
  {
   "cell_type": "code",
   "execution_count": 12,
   "id": "be050c4f-d9a0-4f0a-9606-d57a160bf676",
   "metadata": {},
   "outputs": [
    {
     "data": {
      "text/plain": [
       "43.35154826958106"
      ]
     },
     "execution_count": 12,
     "metadata": {},
     "output_type": "execute_result"
    }
   ],
   "source": [
    "#females_ratio=len(df[df.gender == 'Female'])/len(df.index)\n",
    "#females_ratio\n",
    "females_ratio=len(df[(df['gender'].str.contains('Female')) & (df['fan'].str.contains('Yes'))])/len(df[(df['gender'].str.contains('Female'))])\n",
    "females_percent=females_ratio*100\n",
    "females_percent"
   ]
  },
  {
   "cell_type": "markdown",
   "id": "a75bb263-73bb-4ad8-8d05-e9a3975d8cc0",
   "metadata": {},
   "source": [
    "### Q6) Followed the respective format. "
   ]
  },
  {
   "cell_type": "code",
   "execution_count": null,
   "id": "c3a3468e-3208-4c4b-8628-4167607f2e31",
   "metadata": {},
   "outputs": [],
   "source": []
  }
 ],
 "metadata": {
  "kernelspec": {
   "display_name": "Python 3 (ipykernel)",
   "language": "python",
   "name": "python3"
  },
  "language_info": {
   "codemirror_mode": {
    "name": "ipython",
    "version": 3
   },
   "file_extension": ".py",
   "mimetype": "text/x-python",
   "name": "python",
   "nbconvert_exporter": "python",
   "pygments_lexer": "ipython3",
   "version": "3.11.1"
  }
 },
 "nbformat": 4,
 "nbformat_minor": 5
}
